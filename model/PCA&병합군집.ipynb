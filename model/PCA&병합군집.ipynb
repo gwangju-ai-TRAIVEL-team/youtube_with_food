{
  "nbformat": 4,
  "nbformat_minor": 0,
  "metadata": {
    "colab": {
      "name": "PCA&병합군집.ipynb",
      "provenance": []
    },
    "kernelspec": {
      "name": "python3",
      "display_name": "Python 3"
    },
    "accelerator": "GPU"
  },
  "cells": [
    {
      "cell_type": "markdown",
      "metadata": {
        "id": "2ngQCUJndPGW",
        "colab_type": "text"
      },
      "source": [
        "# 라이브러리 & 데이터 불러오기"
      ]
    },
    {
      "cell_type": "code",
      "metadata": {
        "id": "FfTcRlsWklID",
        "colab_type": "code",
        "colab": {}
      },
      "source": [
        "import pandas as pd\n",
        "import numpy as np"
      ],
      "execution_count": 99,
      "outputs": []
    },
    {
      "cell_type": "code",
      "metadata": {
        "id": "4kCTPVplkwN3",
        "colab_type": "code",
        "colab": {}
      },
      "source": [
        "data = pd.read_csv('all_data.csv')\n",
        "data.head(5)"
      ],
      "execution_count": null,
      "outputs": []
    },
    {
      "cell_type": "code",
      "metadata": {
        "id": "4wT3XdSFlHnQ",
        "colab_type": "code",
        "colab": {
          "base_uri": "https://localhost:8080/",
          "height": 35
        },
        "outputId": "b54c0dba-bf55-44a2-8203-f27eaaf9618a"
      },
      "source": [
        "%cd /content/drive/My Drive/Colab Notebooks/hack"
      ],
      "execution_count": 100,
      "outputs": [
        {
          "output_type": "stream",
          "text": [
            "/content/drive/My Drive/Colab Notebooks/hack\n"
          ],
          "name": "stdout"
        }
      ]
    },
    {
      "cell_type": "code",
      "metadata": {
        "id": "L2nTZRVXlHal",
        "colab_type": "code",
        "colab": {}
      },
      "source": [
        "c"
      ],
      "execution_count": null,
      "outputs": []
    },
    {
      "cell_type": "code",
      "metadata": {
        "id": "ZIqTFK-sk-F8",
        "colab_type": "code",
        "colab": {
          "base_uri": "https://localhost:8080/",
          "height": 967
        },
        "outputId": "7677e7eb-cc34-42f1-d200-4d98631f058c"
      },
      "source": [
        "df = pd.read_csv('food_data_9.csv')\n",
        "df.head(5)"
      ],
      "execution_count": 224,
      "outputs": [
        {
          "output_type": "execute_result",
          "data": {
            "text/html": [
              "<div>\n",
              "<style scoped>\n",
              "    .dataframe tbody tr th:only-of-type {\n",
              "        vertical-align: middle;\n",
              "    }\n",
              "\n",
              "    .dataframe tbody tr th {\n",
              "        vertical-align: top;\n",
              "    }\n",
              "\n",
              "    .dataframe thead th {\n",
              "        text-align: right;\n",
              "    }\n",
              "</style>\n",
              "<table border=\"1\" class=\"dataframe\">\n",
              "  <thead>\n",
              "    <tr style=\"text-align: right;\">\n",
              "      <th></th>\n",
              "      <th>SAMPLE_ID</th>\n",
              "      <th>식품코드</th>\n",
              "      <th>DB군</th>\n",
              "      <th>상용제품</th>\n",
              "      <th>food_name</th>\n",
              "      <th>연도</th>\n",
              "      <th>지역 / 제조사</th>\n",
              "      <th>채취시기</th>\n",
              "      <th>식품상세분류</th>\n",
              "      <th>1회제공량</th>\n",
              "      <th>내용량_단위</th>\n",
              "      <th>총내용량(g)</th>\n",
              "      <th>총내용량(mL)</th>\n",
              "      <th>에너지(㎉)</th>\n",
              "      <th>에너지(kj)</th>\n",
              "      <th>수분(g)</th>\n",
              "      <th>수분(%)</th>\n",
              "      <th>단백질(g)</th>\n",
              "      <th>지방(g)</th>\n",
              "      <th>탄수화물(g)</th>\n",
              "      <th>총당류(g)</th>\n",
              "      <th>자당(g)</th>\n",
              "      <th>포도당(g)</th>\n",
              "      <th>과당(g)</th>\n",
              "      <th>유당(g)</th>\n",
              "      <th>맥아당(g)</th>\n",
              "      <th>갈락토오스(g)</th>\n",
              "      <th>총 식이섬유(g)</th>\n",
              "      <th>총 식이섬유(%)</th>\n",
              "      <th>수용성 식이섬유(g)</th>\n",
              "      <th>불용성 식이섬유(g)</th>\n",
              "      <th>셀룰로오스(%)</th>\n",
              "      <th>리그닌(%)</th>\n",
              "      <th>칼슘(㎎)</th>\n",
              "      <th>철(㎎)</th>\n",
              "      <th>철(㎍)</th>\n",
              "      <th>마그네슘(㎎)</th>\n",
              "      <th>인(㎎)</th>\n",
              "      <th>칼륨(㎎)</th>\n",
              "      <th>나트륨(㎎)</th>\n",
              "      <th>...</th>\n",
              "      <th>감마 리놀렌산(18:3(n-6))(㎎)</th>\n",
              "      <th>스테아리돈산(18:4)(%)</th>\n",
              "      <th>에이코사디에노산(20:2(n-6))(g)</th>\n",
              "      <th>에이코사디에노산(20:2(n-6))(㎎)</th>\n",
              "      <th>에이코사트리에노산(20:3(n-3))(㎎)</th>\n",
              "      <th>에이코사트리에노산(20:3(n-6))(g)</th>\n",
              "      <th>에이코사트리에노산(20:3(n-6))(㎎)</th>\n",
              "      <th>아라키돈산(20:4(n-6))(g)</th>\n",
              "      <th>아라키돈산(20:4(n-6))(㎎)</th>\n",
              "      <th>아라키돈산(20:4(n-6))(%)</th>\n",
              "      <th>에이코사테트라에노산(20:4(n-3))(㎎)</th>\n",
              "      <th>에이코사펜타에노산(20:5(n-3))(g)</th>\n",
              "      <th>에이코사펜타에노산(20:5(n-3))(㎎)</th>\n",
              "      <th>에이코사펜타에노산(20:5(n-3))(%)</th>\n",
              "      <th>도코사디에노산(22:2)(㎎)</th>\n",
              "      <th>도코사펜타에노산(22:5(n-3))(g)</th>\n",
              "      <th>도코사펜타에노산(22:5(n-3))(㎎)</th>\n",
              "      <th>도코사헥사에노산(22:6(n-3))(g)</th>\n",
              "      <th>도코사헥사에노산(22:6(n-3))(㎎)</th>\n",
              "      <th>도코사헥사에노산(22:6(n-3))(%)</th>\n",
              "      <th>EPA와 DHA의 합(㎎)</th>\n",
              "      <th>오메가 3 지방산(g)</th>\n",
              "      <th>오메가 6 지방산(g)</th>\n",
              "      <th>트랜스 지방산(g)</th>\n",
              "      <th>트랜스 올레산(18:1(n-9)t)(g)</th>\n",
              "      <th>트랜스 올레산(18:1(n-9)t)(㎎)</th>\n",
              "      <th>트랜스 리놀레산 (18:2t)(g)</th>\n",
              "      <th>트랜스 리놀레산 (18:2t)(㎎)</th>\n",
              "      <th>트랜스 리놀레산(18:3t)(g)</th>\n",
              "      <th>트랜스 리놀레산(18:3t)(㎎)</th>\n",
              "      <th>트랜스 리놀레산(18:3t)(%)</th>\n",
              "      <th>냉산가용성물질(㎎)</th>\n",
              "      <th>식염상당량(g)</th>\n",
              "      <th>회분(g)</th>\n",
              "      <th>폐기율(%)</th>\n",
              "      <th>가식부(%)</th>\n",
              "      <th>산가용성물질(%)</th>\n",
              "      <th>카페인(㎎)</th>\n",
              "      <th>성분표출처</th>\n",
              "      <th>발행기관</th>\n",
              "    </tr>\n",
              "  </thead>\n",
              "  <tbody>\n",
              "    <tr>\n",
              "      <th>0</th>\n",
              "      <td>D000123-ZZ-D06</td>\n",
              "      <td>D000123</td>\n",
              "      <td>음식</td>\n",
              "      <td>품목대표</td>\n",
              "      <td>수수부꾸미</td>\n",
              "      <td>2019</td>\n",
              "      <td>전국(대표)</td>\n",
              "      <td>6월</td>\n",
              "      <td>곡류 및 서류</td>\n",
              "      <td>100.0</td>\n",
              "      <td>g</td>\n",
              "      <td>0.0</td>\n",
              "      <td>0</td>\n",
              "      <td>247.892</td>\n",
              "      <td>0</td>\n",
              "      <td>44.527</td>\n",
              "      <td>0</td>\n",
              "      <td>5.729</td>\n",
              "      <td>6.287</td>\n",
              "      <td>42.099</td>\n",
              "      <td>0.235</td>\n",
              "      <td>0.0</td>\n",
              "      <td>0.0</td>\n",
              "      <td>0.235</td>\n",
              "      <td>0.0</td>\n",
              "      <td>0.0</td>\n",
              "      <td>0</td>\n",
              "      <td>7.95</td>\n",
              "      <td>0</td>\n",
              "      <td>0</td>\n",
              "      <td>0</td>\n",
              "      <td>0</td>\n",
              "      <td>0</td>\n",
              "      <td>17.243</td>\n",
              "      <td>0.00</td>\n",
              "      <td>1.309</td>\n",
              "      <td>45.03</td>\n",
              "      <td>111.362</td>\n",
              "      <td>190.726</td>\n",
              "      <td>261.002</td>\n",
              "      <td>...</td>\n",
              "      <td>0</td>\n",
              "      <td>0</td>\n",
              "      <td>0.0</td>\n",
              "      <td>0</td>\n",
              "      <td>0</td>\n",
              "      <td>0.0</td>\n",
              "      <td>0</td>\n",
              "      <td>0.0</td>\n",
              "      <td>0</td>\n",
              "      <td>0</td>\n",
              "      <td>0</td>\n",
              "      <td>0.0</td>\n",
              "      <td>0</td>\n",
              "      <td>0</td>\n",
              "      <td>0</td>\n",
              "      <td>0.0</td>\n",
              "      <td>0</td>\n",
              "      <td>0.0</td>\n",
              "      <td>0</td>\n",
              "      <td>0</td>\n",
              "      <td>0</td>\n",
              "      <td>0</td>\n",
              "      <td>0</td>\n",
              "      <td>0.028</td>\n",
              "      <td>0.0</td>\n",
              "      <td>0</td>\n",
              "      <td>0.0</td>\n",
              "      <td>0</td>\n",
              "      <td>0.0</td>\n",
              "      <td>0</td>\n",
              "      <td>0</td>\n",
              "      <td>0</td>\n",
              "      <td>0</td>\n",
              "      <td>1.358</td>\n",
              "      <td>0</td>\n",
              "      <td>0</td>\n",
              "      <td>0</td>\n",
              "      <td>0.0</td>\n",
              "      <td>식약처('14) 명절</td>\n",
              "      <td>식품의약품안전처</td>\n",
              "    </tr>\n",
              "    <tr>\n",
              "      <th>1</th>\n",
              "      <td>D018006-ZZ-AVG</td>\n",
              "      <td>D018006</td>\n",
              "      <td>음식</td>\n",
              "      <td>품목대표</td>\n",
              "      <td>약식</td>\n",
              "      <td>2020</td>\n",
              "      <td>전국(대표)</td>\n",
              "      <td>평균</td>\n",
              "      <td>곡류 및 서류</td>\n",
              "      <td>100.0</td>\n",
              "      <td>g</td>\n",
              "      <td>0.0</td>\n",
              "      <td>0</td>\n",
              "      <td>219.000</td>\n",
              "      <td>0</td>\n",
              "      <td>47.200</td>\n",
              "      <td>0</td>\n",
              "      <td>4.200</td>\n",
              "      <td>2.500</td>\n",
              "      <td>45.200</td>\n",
              "      <td>13.200</td>\n",
              "      <td>8.6</td>\n",
              "      <td>2.2</td>\n",
              "      <td>2.500</td>\n",
              "      <td>0.0</td>\n",
              "      <td>0.0</td>\n",
              "      <td>0</td>\n",
              "      <td>2.60</td>\n",
              "      <td>0</td>\n",
              "      <td>0</td>\n",
              "      <td>0</td>\n",
              "      <td>0</td>\n",
              "      <td>0</td>\n",
              "      <td>13.380</td>\n",
              "      <td>0.33</td>\n",
              "      <td>0.000</td>\n",
              "      <td>20.84</td>\n",
              "      <td>43.440</td>\n",
              "      <td>85.400</td>\n",
              "      <td>221.180</td>\n",
              "      <td>...</td>\n",
              "      <td>0</td>\n",
              "      <td>0</td>\n",
              "      <td>0.0</td>\n",
              "      <td>0</td>\n",
              "      <td>0</td>\n",
              "      <td>0.0</td>\n",
              "      <td>0</td>\n",
              "      <td>0.0</td>\n",
              "      <td>0</td>\n",
              "      <td>0</td>\n",
              "      <td>0</td>\n",
              "      <td>0.0</td>\n",
              "      <td>0</td>\n",
              "      <td>0</td>\n",
              "      <td>0</td>\n",
              "      <td>0.0</td>\n",
              "      <td>0</td>\n",
              "      <td>0.0</td>\n",
              "      <td>0</td>\n",
              "      <td>0</td>\n",
              "      <td>0</td>\n",
              "      <td>0</td>\n",
              "      <td>0</td>\n",
              "      <td>0.000</td>\n",
              "      <td>0.0</td>\n",
              "      <td>0</td>\n",
              "      <td>0.0</td>\n",
              "      <td>0</td>\n",
              "      <td>0.0</td>\n",
              "      <td>0</td>\n",
              "      <td>0</td>\n",
              "      <td>0</td>\n",
              "      <td>0</td>\n",
              "      <td>0.900</td>\n",
              "      <td>0</td>\n",
              "      <td>0</td>\n",
              "      <td>0</td>\n",
              "      <td>0.0</td>\n",
              "      <td>식약처 영양실태조사('20)</td>\n",
              "      <td>식품의약품안전처</td>\n",
              "    </tr>\n",
              "    <tr>\n",
              "      <th>2</th>\n",
              "      <td>D015487-ZZ-AVG</td>\n",
              "      <td>D015487</td>\n",
              "      <td>음식</td>\n",
              "      <td>외식</td>\n",
              "      <td>3mm 황금비율로 바삭하고 고소한 전병세트</td>\n",
              "      <td>2019</td>\n",
              "      <td>파리바게뜨</td>\n",
              "      <td>평균</td>\n",
              "      <td>과자류</td>\n",
              "      <td>100.0</td>\n",
              "      <td>g</td>\n",
              "      <td>270.0</td>\n",
              "      <td>0</td>\n",
              "      <td>270.000</td>\n",
              "      <td>0</td>\n",
              "      <td>0.000</td>\n",
              "      <td>0</td>\n",
              "      <td>7.000</td>\n",
              "      <td>0.000</td>\n",
              "      <td>0.000</td>\n",
              "      <td>26.000</td>\n",
              "      <td>0.0</td>\n",
              "      <td>0.0</td>\n",
              "      <td>0.000</td>\n",
              "      <td>0.0</td>\n",
              "      <td>0.0</td>\n",
              "      <td>0</td>\n",
              "      <td>0.00</td>\n",
              "      <td>0</td>\n",
              "      <td>0</td>\n",
              "      <td>0</td>\n",
              "      <td>0</td>\n",
              "      <td>0</td>\n",
              "      <td>0.000</td>\n",
              "      <td>0.00</td>\n",
              "      <td>0.000</td>\n",
              "      <td>0.00</td>\n",
              "      <td>0.000</td>\n",
              "      <td>0.000</td>\n",
              "      <td>250.000</td>\n",
              "      <td>...</td>\n",
              "      <td>0</td>\n",
              "      <td>0</td>\n",
              "      <td>0.0</td>\n",
              "      <td>0</td>\n",
              "      <td>0</td>\n",
              "      <td>0.0</td>\n",
              "      <td>0</td>\n",
              "      <td>0.0</td>\n",
              "      <td>0</td>\n",
              "      <td>0</td>\n",
              "      <td>0</td>\n",
              "      <td>0.0</td>\n",
              "      <td>0</td>\n",
              "      <td>0</td>\n",
              "      <td>0</td>\n",
              "      <td>0.0</td>\n",
              "      <td>0</td>\n",
              "      <td>0.0</td>\n",
              "      <td>0</td>\n",
              "      <td>0</td>\n",
              "      <td>0</td>\n",
              "      <td>0</td>\n",
              "      <td>0</td>\n",
              "      <td>0.000</td>\n",
              "      <td>0.0</td>\n",
              "      <td>0</td>\n",
              "      <td>0.0</td>\n",
              "      <td>0</td>\n",
              "      <td>0.0</td>\n",
              "      <td>0</td>\n",
              "      <td>0</td>\n",
              "      <td>0</td>\n",
              "      <td>0</td>\n",
              "      <td>0.000</td>\n",
              "      <td>0</td>\n",
              "      <td>0</td>\n",
              "      <td>0</td>\n",
              "      <td>0.0</td>\n",
              "      <td>식약처('19)</td>\n",
              "      <td>식품의약품안전처</td>\n",
              "    </tr>\n",
              "    <tr>\n",
              "      <th>3</th>\n",
              "      <td>D017096-ZZ-AVG</td>\n",
              "      <td>D017096</td>\n",
              "      <td>음식</td>\n",
              "      <td>외식</td>\n",
              "      <td>가나슈쿠키</td>\n",
              "      <td>2019</td>\n",
              "      <td>뚜레쥬르</td>\n",
              "      <td>평균</td>\n",
              "      <td>과자류</td>\n",
              "      <td>140.0</td>\n",
              "      <td>g</td>\n",
              "      <td>140.0</td>\n",
              "      <td>0</td>\n",
              "      <td>776.000</td>\n",
              "      <td>0</td>\n",
              "      <td>0.000</td>\n",
              "      <td>0</td>\n",
              "      <td>12.000</td>\n",
              "      <td>0.000</td>\n",
              "      <td>0.000</td>\n",
              "      <td>21.000</td>\n",
              "      <td>0.0</td>\n",
              "      <td>0.0</td>\n",
              "      <td>0.000</td>\n",
              "      <td>0.0</td>\n",
              "      <td>0.0</td>\n",
              "      <td>0</td>\n",
              "      <td>0.00</td>\n",
              "      <td>0</td>\n",
              "      <td>0</td>\n",
              "      <td>0</td>\n",
              "      <td>0</td>\n",
              "      <td>0</td>\n",
              "      <td>0.000</td>\n",
              "      <td>0.00</td>\n",
              "      <td>0.000</td>\n",
              "      <td>0.00</td>\n",
              "      <td>0.000</td>\n",
              "      <td>0.000</td>\n",
              "      <td>11.000</td>\n",
              "      <td>...</td>\n",
              "      <td>0</td>\n",
              "      <td>0</td>\n",
              "      <td>0.0</td>\n",
              "      <td>0</td>\n",
              "      <td>0</td>\n",
              "      <td>0.0</td>\n",
              "      <td>0</td>\n",
              "      <td>0.0</td>\n",
              "      <td>0</td>\n",
              "      <td>0</td>\n",
              "      <td>0</td>\n",
              "      <td>0.0</td>\n",
              "      <td>0</td>\n",
              "      <td>0</td>\n",
              "      <td>0</td>\n",
              "      <td>0.0</td>\n",
              "      <td>0</td>\n",
              "      <td>0.0</td>\n",
              "      <td>0</td>\n",
              "      <td>0</td>\n",
              "      <td>0</td>\n",
              "      <td>0</td>\n",
              "      <td>0</td>\n",
              "      <td>0.000</td>\n",
              "      <td>0.0</td>\n",
              "      <td>0</td>\n",
              "      <td>0.0</td>\n",
              "      <td>0</td>\n",
              "      <td>0.0</td>\n",
              "      <td>0</td>\n",
              "      <td>0</td>\n",
              "      <td>0</td>\n",
              "      <td>0</td>\n",
              "      <td>0.000</td>\n",
              "      <td>0</td>\n",
              "      <td>0</td>\n",
              "      <td>0</td>\n",
              "      <td>0.0</td>\n",
              "      <td>식약처('19)</td>\n",
              "      <td>식품의약품안전처</td>\n",
              "    </tr>\n",
              "    <tr>\n",
              "      <th>4</th>\n",
              "      <td>D012442-ZZ-AVG</td>\n",
              "      <td>D012442</td>\n",
              "      <td>음식</td>\n",
              "      <td>외식</td>\n",
              "      <td>고구마 L(리코타링)</td>\n",
              "      <td>2019</td>\n",
              "      <td>7번가피자</td>\n",
              "      <td>평균</td>\n",
              "      <td>과자류</td>\n",
              "      <td>120.0</td>\n",
              "      <td>g</td>\n",
              "      <td>956.0</td>\n",
              "      <td>0</td>\n",
              "      <td>315.000</td>\n",
              "      <td>0</td>\n",
              "      <td>0.000</td>\n",
              "      <td>0</td>\n",
              "      <td>15.000</td>\n",
              "      <td>0.000</td>\n",
              "      <td>0.000</td>\n",
              "      <td>4.000</td>\n",
              "      <td>0.0</td>\n",
              "      <td>0.0</td>\n",
              "      <td>0.000</td>\n",
              "      <td>0.0</td>\n",
              "      <td>0.0</td>\n",
              "      <td>0</td>\n",
              "      <td>0.00</td>\n",
              "      <td>0</td>\n",
              "      <td>0</td>\n",
              "      <td>0</td>\n",
              "      <td>0</td>\n",
              "      <td>0</td>\n",
              "      <td>0.000</td>\n",
              "      <td>0.00</td>\n",
              "      <td>0.000</td>\n",
              "      <td>0.00</td>\n",
              "      <td>0.000</td>\n",
              "      <td>0.000</td>\n",
              "      <td>476.000</td>\n",
              "      <td>...</td>\n",
              "      <td>0</td>\n",
              "      <td>0</td>\n",
              "      <td>0.0</td>\n",
              "      <td>0</td>\n",
              "      <td>0</td>\n",
              "      <td>0.0</td>\n",
              "      <td>0</td>\n",
              "      <td>0.0</td>\n",
              "      <td>0</td>\n",
              "      <td>0</td>\n",
              "      <td>0</td>\n",
              "      <td>0.0</td>\n",
              "      <td>0</td>\n",
              "      <td>0</td>\n",
              "      <td>0</td>\n",
              "      <td>0.0</td>\n",
              "      <td>0</td>\n",
              "      <td>0.0</td>\n",
              "      <td>0</td>\n",
              "      <td>0</td>\n",
              "      <td>0</td>\n",
              "      <td>0</td>\n",
              "      <td>0</td>\n",
              "      <td>0.000</td>\n",
              "      <td>0.0</td>\n",
              "      <td>0</td>\n",
              "      <td>0.0</td>\n",
              "      <td>0</td>\n",
              "      <td>0.0</td>\n",
              "      <td>0</td>\n",
              "      <td>0</td>\n",
              "      <td>0</td>\n",
              "      <td>0</td>\n",
              "      <td>0.000</td>\n",
              "      <td>0</td>\n",
              "      <td>0</td>\n",
              "      <td>0</td>\n",
              "      <td>0.0</td>\n",
              "      <td>식약처('19)</td>\n",
              "      <td>식품의약품안전처</td>\n",
              "    </tr>\n",
              "  </tbody>\n",
              "</table>\n",
              "<p>5 rows × 226 columns</p>\n",
              "</div>"
            ],
            "text/plain": [
              "        SAMPLE_ID     식품코드 DB군  ... 카페인(㎎)            성분표출처      발행기관\n",
              "0  D000123-ZZ-D06  D000123  음식  ...    0.0      식약처('14) 명절  식품의약품안전처\n",
              "1  D018006-ZZ-AVG  D018006  음식  ...    0.0  식약처 영양실태조사('20)  식품의약품안전처\n",
              "2  D015487-ZZ-AVG  D015487  음식  ...    0.0         식약처('19)  식품의약품안전처\n",
              "3  D017096-ZZ-AVG  D017096  음식  ...    0.0         식약처('19)  식품의약품안전처\n",
              "4  D012442-ZZ-AVG  D012442  음식  ...    0.0         식약처('19)  식품의약품안전처\n",
              "\n",
              "[5 rows x 226 columns]"
            ]
          },
          "metadata": {
            "tags": []
          },
          "execution_count": 224
        }
      ]
    },
    {
      "cell_type": "code",
      "metadata": {
        "id": "gUHatyVClje-",
        "colab_type": "code",
        "colab": {}
      },
      "source": [
        "df_2 = pd.DataFrame([df['food_name'],df['식품상세분류']])\n",
        "df_2 = df_2.T"
      ],
      "execution_count": 225,
      "outputs": []
    },
    {
      "cell_type": "code",
      "metadata": {
        "id": "9o9OVYnMlpoa",
        "colab_type": "code",
        "colab": {}
      },
      "source": [
        "df_3 = pd.get_dummies(df['식품상세분류'])\n",
        "df_4 = pd.get_dummies(df[['food_name','식품상세분류']])"
      ],
      "execution_count": 226,
      "outputs": []
    },
    {
      "cell_type": "code",
      "metadata": {
        "id": "eeehc16Nl8tK",
        "colab_type": "code",
        "colab": {
          "base_uri": "https://localhost:8080/",
          "height": 125
        },
        "outputId": "bc77b550-3fd2-4537-902e-f7b99a93ffe4"
      },
      "source": [
        "df_3.columns"
      ],
      "execution_count": 193,
      "outputs": [
        {
          "output_type": "execute_result",
          "data": {
            "text/plain": [
              "Index(['곡류 및 서류', '과자류', '구이류', '국&탕류', '김밥(초밥)류', '떡류', '떡볶이류', '리조또.그라탕류',\n",
              "       '만두류', '면류', '무침류', '버거류', '볶음류', '볶음밥&덮밥류', '부침류', '비빔밥&죽류', '빵류',\n",
              "       '샌드위치류', '샐러드', '샐러드류', '스프류', '아이스크림&빙과류', '유제품&초콜릿류', '음료류',\n",
              "       '젓갈&장아찌&절임류', '조림류', '찌개&전골류', '찜류', '치킨류', '커피류', '케이크류', '튀김류',\n",
              "       '포&회류', '피자류'],\n",
              "      dtype='object')"
            ]
          },
          "metadata": {
            "tags": []
          },
          "execution_count": 193
        }
      ]
    },
    {
      "cell_type": "markdown",
      "metadata": {
        "id": "-gUFjuChmYXC",
        "colab_type": "text"
      },
      "source": [
        "# PCA"
      ]
    },
    {
      "cell_type": "code",
      "metadata": {
        "id": "xXc17d25mBfI",
        "colab_type": "code",
        "colab": {}
      },
      "source": [
        "X = df_3"
      ],
      "execution_count": 227,
      "outputs": []
    },
    {
      "cell_type": "code",
      "metadata": {
        "id": "H7rgeLHGmW9T",
        "colab_type": "code",
        "colab": {}
      },
      "source": [
        "!pip install mglearn"
      ],
      "execution_count": null,
      "outputs": []
    },
    {
      "cell_type": "code",
      "metadata": {
        "id": "uON95Js1mfFX",
        "colab_type": "code",
        "colab": {}
      },
      "source": [
        "import mglearn"
      ],
      "execution_count": 17,
      "outputs": []
    },
    {
      "cell_type": "code",
      "metadata": {
        "id": "iZ_4T_YhmDU6",
        "colab_type": "code",
        "colab": {
          "base_uri": "https://localhost:8080/",
          "height": 35
        },
        "outputId": "a0abfd63-205d-4eb6-a4da-28bd15566dbe"
      },
      "source": [
        "from sklearn.preprocessing import StandardScaler\n",
        "scaler = StandardScaler()\n",
        "scaler.fit(X)"
      ],
      "execution_count": 228,
      "outputs": [
        {
          "output_type": "execute_result",
          "data": {
            "text/plain": [
              "StandardScaler(copy=True, with_mean=True, with_std=True)"
            ]
          },
          "metadata": {
            "tags": []
          },
          "execution_count": 228
        }
      ]
    },
    {
      "cell_type": "code",
      "metadata": {
        "id": "G7K35nZcmGL9",
        "colab_type": "code",
        "colab": {}
      },
      "source": [
        "X_scaled = scaler.transform(X)"
      ],
      "execution_count": 229,
      "outputs": []
    },
    {
      "cell_type": "code",
      "metadata": {
        "id": "QaYm6DBCmIOs",
        "colab_type": "code",
        "colab": {}
      },
      "source": [
        "from sklearn.decomposition import PCA\n",
        "import matplotlib.pyplot as plt\n",
        "pca = PCA(n_components = 2)\n",
        "pca.fit(X_scaled)\n",
        "X_pca = pca.transform(X_scaled)"
      ],
      "execution_count": 230,
      "outputs": []
    },
    {
      "cell_type": "code",
      "metadata": {
        "id": "JWJEjBvBmNno",
        "colab_type": "code",
        "colab": {
          "base_uri": "https://localhost:8080/",
          "height": 35
        },
        "outputId": "354f3589-7fc5-4a04-cd27-fd6ac0bee0ac"
      },
      "source": [
        "X_pca.shape"
      ],
      "execution_count": 182,
      "outputs": [
        {
          "output_type": "execute_result",
          "data": {
            "text/plain": [
              "(3703, 2)"
            ]
          },
          "metadata": {
            "tags": []
          },
          "execution_count": 182
        }
      ]
    },
    {
      "cell_type": "code",
      "metadata": {
        "id": "5RQ_91FBmRIr",
        "colab_type": "code",
        "colab": {
          "base_uri": "https://localhost:8080/",
          "height": 610
        },
        "outputId": "5a55ee93-7034-45de-88bf-be507c08b301"
      },
      "source": [
        "plt.figure(figsize = (10,10))\n",
        "mglearn.discrete_scatter(X_pca[:,0], X_pca[:,1], markers='o')"
      ],
      "execution_count": 231,
      "outputs": [
        {
          "output_type": "execute_result",
          "data": {
            "text/plain": [
              "[<matplotlib.lines.Line2D at 0x7f11a70e8ba8>]"
            ]
          },
          "metadata": {
            "tags": []
          },
          "execution_count": 231
        },
        {
          "output_type": "display_data",
          "data": {
            "image/png": "[encoded data removed]",
            "text/plain": [
              "<Figure size 720x720 with 1 Axes>"
            ]
          },
          "metadata": {
            "tags": [],
            "needs_background": "light"
          }
        }
      ]
    },
    {
      "cell_type": "markdown",
      "metadata": {
        "id": "Q9L32_BVa-iY",
        "colab_type": "text"
      },
      "source": [
        "# 병합군집"
      ]
    },
    {
      "cell_type": "code",
      "metadata": {
        "id": "ATJdvaDymnpu",
        "colab_type": "code",
        "colab": {}
      },
      "source": [
        "from sklearn.cluster import AgglomerativeClustering"
      ],
      "execution_count": 19,
      "outputs": []
    },
    {
      "cell_type": "code",
      "metadata": {
        "id": "-KuXGTFxmphl",
        "colab_type": "code",
        "colab": {}
      },
      "source": [
        "agg = AgglomerativeClustering(n_clusters=31)\n",
        "assignment = agg.fit_predict(X_pca)"
      ],
      "execution_count": 240,
      "outputs": []
    },
    {
      "cell_type": "code",
      "metadata": {
        "id": "DSx1x0Ommsie",
        "colab_type": "code",
        "colab": {
          "base_uri": "https://localhost:8080/",
          "height": 1000
        },
        "outputId": "28f7dac4-25a7-4b8b-e591-c9745d218bac"
      },
      "source": [
        "plt.figure(figsize = (8,8))\n",
        "mglearn.discrete_scatter(X_pca[:,0], X_pca[:,1], assignment)"
      ],
      "execution_count": 241,
      "outputs": [
        {
          "output_type": "execute_result",
          "data": {
            "text/plain": [
              "[<matplotlib.lines.Line2D at 0x7f11a4aec9e8>,\n",
              " <matplotlib.lines.Line2D at 0x7f11a4aecb00>,\n",
              " <matplotlib.lines.Line2D at 0x7f11a4aece80>,\n",
              " <matplotlib.lines.Line2D at 0x7f11a4afb240>,\n",
              " <matplotlib.lines.Line2D at 0x7f11a4afb5c0>,\n",
              " <matplotlib.lines.Line2D at 0x7f11a4afb940>,\n",
              " <matplotlib.lines.Line2D at 0x7f11a4afbcc0>,\n",
              " <matplotlib.lines.Line2D at 0x7f11a4b46080>,\n",
              " <matplotlib.lines.Line2D at 0x7f11a4b46400>,\n",
              " <matplotlib.lines.Line2D at 0x7f11a4b46780>,\n",
              " <matplotlib.lines.Line2D at 0x7f11a4aec9b0>,\n",
              " <matplotlib.lines.Line2D at 0x7f11a4b46e48>,\n",
              " <matplotlib.lines.Line2D at 0x7f11a4b4f208>,\n",
              " <matplotlib.lines.Line2D at 0x7f11a4b4f588>,\n",
              " <matplotlib.lines.Line2D at 0x7f11a4b4f908>,\n",
              " <matplotlib.lines.Line2D at 0x7f11a4b4fc88>,\n",
              " <matplotlib.lines.Line2D at 0x7f11a4b5b048>,\n",
              " <matplotlib.lines.Line2D at 0x7f11a4b5b3c8>,\n",
              " <matplotlib.lines.Line2D at 0x7f11a4b5b748>,\n",
              " <matplotlib.lines.Line2D at 0x7f11a4b5bac8>,\n",
              " <matplotlib.lines.Line2D at 0x7f11a4b5be48>,\n",
              " <matplotlib.lines.Line2D at 0x7f11a4b64208>,\n",
              " <matplotlib.lines.Line2D at 0x7f11a4b64588>,\n",
              " <matplotlib.lines.Line2D at 0x7f11a4b64908>,\n",
              " <matplotlib.lines.Line2D at 0x7f11a4b64c88>,\n",
              " <matplotlib.lines.Line2D at 0x7f11a4b6f048>,\n",
              " <matplotlib.lines.Line2D at 0x7f11a4b6f3c8>,\n",
              " <matplotlib.lines.Line2D at 0x7f11a4b6f748>,\n",
              " <matplotlib.lines.Line2D at 0x7f11a4b6fac8>,\n",
              " <matplotlib.lines.Line2D at 0x7f11a4b6fe48>,\n",
              " <matplotlib.lines.Line2D at 0x7f11a4b7a208>]"
            ]
          },
          "metadata": {
            "tags": []
          },
          "execution_count": 241
        },
        {
          "output_type": "display_data",
          "data": {
            "image/png": "[encoded data removed]",
            "text/plain": [
              "<Figure size 576x576 with 1 Axes>"
            ]
          },
          "metadata": {
            "tags": [],
            "needs_background": "light"
          }
        }
      ]
    },
    {
      "cell_type": "code",
      "metadata": {
        "id": "vYeJ_KHOm1rV",
        "colab_type": "code",
        "colab": {}
      },
      "source": [
        "df_2['label'] = assignment"
      ],
      "execution_count": 242,
      "outputs": []
    },
    {
      "cell_type": "code",
      "metadata": {
        "id": "LHkCwTDom3yv",
        "colab_type": "code",
        "colab": {
          "base_uri": "https://localhost:8080/",
          "height": 53
        },
        "outputId": "e84290a7-52d3-4f49-e97e-5cf69c812bd8"
      },
      "source": [
        "df_2['label'].unique()"
      ],
      "execution_count": 243,
      "outputs": [
        {
          "output_type": "execute_result",
          "data": {
            "text/plain": [
              "array([25, 26,  2, 13, 19, 22, 29,  1, 27, 18, 23,  0, 28, 14,  6,  5, 10,\n",
              "       12, 17, 16,  4, 21,  3,  8,  7, 15, 11, 24, 30, 20,  9])"
            ]
          },
          "metadata": {
            "tags": []
          },
          "execution_count": 243
        }
      ]
    },
    {
      "cell_type": "code",
      "metadata": {
        "id": "jD2DM1UenIL4",
        "colab_type": "code",
        "colab": {}
      },
      "source": [
        "df_2['label'] = assignment"
      ],
      "execution_count": 144,
      "outputs": []
    },
    {
      "cell_type": "code",
      "metadata": {
        "id": "uOHgFZj_nM3C",
        "colab_type": "code",
        "colab": {}
      },
      "source": [
        "df_label_8 = df_2[df_2['label'] == 8]\n"
      ],
      "execution_count": 34,
      "outputs": []
    },
    {
      "cell_type": "code",
      "metadata": {
        "id": "YfnQNFPXoNWS",
        "colab_type": "code",
        "colab": {}
      },
      "source": [
        "df_label_1 = df_2[df_2['label'] == 1]\n",
        "df_label_2 = df_2[df_2['label'] == 2]\n",
        "df_label_3 = df_2[df_2['label'] == 3]\n",
        "df_label_4 = df_2[df_2['label'] == 4]\n",
        "df_label_5 = df_2[df_2['label'] == 5]\n",
        "df_label_6 = df_2[df_2['label'] == 6]\n",
        "df_label_6 = df_2[df_2['label'] == 6]\n",
        "df_label_8 = df_2[df_2['label'] == 8]\n",
        "df_label_8 = df_2[df_2['label'] == 8]\n",
        "df_label_8 = df_2[df_2['label'] == 8]\n",
        "df_label_8 = df_2[df_2['label'] == 8]\n",
        "df_label_8 = df_2[df_2['label'] == 8]\n",
        "df_label_8 = df_2[df_2['label'] == 8]\n",
        "df_label_8 = df_2[df_2['label'] == 8]\n",
        "df_label_8 = df_2[df_2['label'] == 8"
      ],
      "execution_count": 38,
      "outputs": []
    },
    {
      "cell_type": "code",
      "metadata": {
        "id": "V0QRWZ6BnyNf",
        "colab_type": "code",
        "colab": {
          "base_uri": "https://localhost:8080/",
          "height": 35
        },
        "outputId": "d30d3d84-2d9c-4d24-d9f7-c08d9e736812"
      },
      "source": [
        "df_label_8['식품상세분류'].unique()"
      ],
      "execution_count": 37,
      "outputs": [
        {
          "output_type": "execute_result",
          "data": {
            "text/plain": [
              "array(['곡류 및 서류', '육류볶음', '채소류조림'], dtype=object)"
            ]
          },
          "metadata": {
            "tags": []
          },
          "execution_count": 37
        }
      ]
    },
    {
      "cell_type": "code",
      "metadata": {
        "id": "FlQzuebxoqxK",
        "colab_type": "code",
        "colab": {
          "base_uri": "https://localhost:8080/",
          "height": 35
        },
        "outputId": "b370e01e-316d-4ce4-93bc-0641eaf89c3b"
      },
      "source": [
        "df_2[df_2['label'] == 1]['식품상세분류'].unique()"
      ],
      "execution_count": 39,
      "outputs": [
        {
          "output_type": "execute_result",
          "data": {
            "text/plain": [
              "array(['기타 빵류', '나물.채소류무침', '채소류찜', '커피류', '한과류'], dtype=object)"
            ]
          },
          "metadata": {
            "tags": []
          },
          "execution_count": 39
        }
      ]
    },
    {
      "cell_type": "code",
      "metadata": {
        "id": "lNaSEjCZowww",
        "colab_type": "code",
        "colab": {}
      },
      "source": [
        "result = []\n",
        "for i in range(0, 31):\n",
        "  value = df_2[df_2['label'] == i]['식품상세분류'].unique()\n",
        "  result.append(value)"
      ],
      "execution_count": 248,
      "outputs": []
    },
    {
      "cell_type": "code",
      "metadata": {
        "colab_type": "code",
        "id": "2lA9VMRVo6XE",
        "colab": {
          "base_uri": "https://localhost:8080/",
          "height": 35
        },
        "outputId": "b370e01e-316d-4ce4-93bc-0641eaf89c3b"
      },
      "source": [
        "df_2[df_2['label'] == 1]['식품상세분류'].unique()"
      ],
      "execution_count": null,
      "outputs": [
        {
          "output_type": "execute_result",
          "data": {
            "text/plain": [
              "array(['기타 빵류', '나물.채소류무침', '채소류찜', '커피류', '한과류'], dtype=object)"
            ]
          },
          "metadata": {
            "tags": []
          },
          "execution_count": 39
        }
      ]
    },
    {
      "cell_type": "code",
      "metadata": {
        "id": "87txkbpopHWF",
        "colab_type": "code",
        "colab": {
          "base_uri": "https://localhost:8080/",
          "height": 593
        },
        "outputId": "a3a1eed8-8e52-4242-aa0f-926c188bf8e8"
      },
      "source": [
        "result"
      ],
      "execution_count": 247,
      "outputs": [
        {
          "output_type": "execute_result",
          "data": {
            "text/plain": [
              "[array(['볶음류', '스프류', '커피류'], dtype=object),\n",
              " array(['만두류'], dtype=object),\n",
              " array(['구이류', '국&탕류'], dtype=object),\n",
              " array(['젓갈&장아찌&절임류'], dtype=object),\n",
              " array(['유제품&초콜릿류'], dtype=object),\n",
              " array(['빵류'], dtype=object),\n",
              " array(['비빔밥&죽류'], dtype=object),\n",
              " array(['찌개&전골류'], dtype=object),\n",
              " array(['조림류'], dtype=object),\n",
              " array(['피자류'], dtype=object),\n",
              " array(['샌드위치류'], dtype=object),\n",
              " array(['치킨류'], dtype=object),\n",
              " array(['샐러드'], dtype=object),\n",
              " array(['김밥(초밥)류'], dtype=object),\n",
              " array(['부침류'], dtype=object),\n",
              " array(['찜류'], dtype=object),\n",
              " array(['아이스크림&빙과류'], dtype=object),\n",
              " array(['샐러드류'], dtype=object),\n",
              " array(['무침류'], dtype=object),\n",
              " array(['떡류'], dtype=object),\n",
              " array(['포&회류'], dtype=object),\n",
              " array(['음료류'], dtype=object),\n",
              " array(['떡볶이류'], dtype=object),\n",
              " array(['버거류'], dtype=object),\n",
              " array(['케이크류'], dtype=object),\n",
              " array(['곡류 및 서류'], dtype=object),\n",
              " array(['과자류'], dtype=object),\n",
              " array(['면류'], dtype=object),\n",
              " array(['볶음밥&덮밥류'], dtype=object),\n",
              " array(['리조또.그라탕류'], dtype=object),\n",
              " array(['튀김류'], dtype=object),\n",
              " array([], dtype=object)]"
            ]
          },
          "metadata": {
            "tags": []
          },
          "execution_count": 247
        }
      ]
    },
    {
      "cell_type": "code",
      "metadata": {
        "id": "hsa7wIiVrUcx",
        "colab_type": "code",
        "colab": {}
      },
      "source": [
        "df_2.to_csv(\"result_3.csv\")"
      ],
      "execution_count": 205,
      "outputs": []
    },
    {
      "cell_type": "code",
      "metadata": {
        "id": "RLhlY8Raskvq",
        "colab_type": "code",
        "colab": {
          "base_uri": "https://localhost:8080/",
          "height": 419
        },
        "outputId": "2e460469-ccbc-4f01-8104-389e0044b86a"
      },
      "source": [
        "df_2"
      ],
      "execution_count": 206,
      "outputs": [
        {
          "output_type": "execute_result",
          "data": {
            "text/html": [
              "<div>\n",
              "<style scoped>\n",
              "    .dataframe tbody tr th:only-of-type {\n",
              "        vertical-align: middle;\n",
              "    }\n",
              "\n",
              "    .dataframe tbody tr th {\n",
              "        vertical-align: top;\n",
              "    }\n",
              "\n",
              "    .dataframe thead th {\n",
              "        text-align: right;\n",
              "    }\n",
              "</style>\n",
              "<table border=\"1\" class=\"dataframe\">\n",
              "  <thead>\n",
              "    <tr style=\"text-align: right;\">\n",
              "      <th></th>\n",
              "      <th>food_name</th>\n",
              "      <th>식품상세분류</th>\n",
              "      <th>label</th>\n",
              "    </tr>\n",
              "  </thead>\n",
              "  <tbody>\n",
              "    <tr>\n",
              "      <th>0</th>\n",
              "      <td>수수부꾸미</td>\n",
              "      <td>곡류 및 서류</td>\n",
              "      <td>15</td>\n",
              "    </tr>\n",
              "    <tr>\n",
              "      <th>1</th>\n",
              "      <td>약식</td>\n",
              "      <td>곡류 및 서류</td>\n",
              "      <td>15</td>\n",
              "    </tr>\n",
              "    <tr>\n",
              "      <th>2</th>\n",
              "      <td>3mm 황금비율로 바삭하고 고소한 전병세트</td>\n",
              "      <td>과자류</td>\n",
              "      <td>9</td>\n",
              "    </tr>\n",
              "    <tr>\n",
              "      <th>3</th>\n",
              "      <td>가나슈쿠키</td>\n",
              "      <td>과자류</td>\n",
              "      <td>9</td>\n",
              "    </tr>\n",
              "    <tr>\n",
              "      <th>4</th>\n",
              "      <td>고구마 L(리코타링)</td>\n",
              "      <td>과자류</td>\n",
              "      <td>9</td>\n",
              "    </tr>\n",
              "    <tr>\n",
              "      <th>...</th>\n",
              "      <td>...</td>\n",
              "      <td>...</td>\n",
              "      <td>...</td>\n",
              "    </tr>\n",
              "    <tr>\n",
              "      <th>3698</th>\n",
              "      <td>황금커리피자피자</td>\n",
              "      <td>피자류</td>\n",
              "      <td>18</td>\n",
              "    </tr>\n",
              "    <tr>\n",
              "      <th>3699</th>\n",
              "      <td>흥부 포테이토(골드스윗)</td>\n",
              "      <td>피자류</td>\n",
              "      <td>18</td>\n",
              "    </tr>\n",
              "    <tr>\n",
              "      <th>3700</th>\n",
              "      <td>흥부 포테이토(리코타링)</td>\n",
              "      <td>피자류</td>\n",
              "      <td>18</td>\n",
              "    </tr>\n",
              "    <tr>\n",
              "      <th>3701</th>\n",
              "      <td>흥부 포테이토(석쇠)</td>\n",
              "      <td>피자류</td>\n",
              "      <td>18</td>\n",
              "    </tr>\n",
              "    <tr>\n",
              "      <th>3702</th>\n",
              "      <td>흥부 포테이토(치즈링)</td>\n",
              "      <td>피자류</td>\n",
              "      <td>18</td>\n",
              "    </tr>\n",
              "  </tbody>\n",
              "</table>\n",
              "<p>3703 rows × 3 columns</p>\n",
              "</div>"
            ],
            "text/plain": [
              "                    food_name   식품상세분류  label\n",
              "0                       수수부꾸미  곡류 및 서류     15\n",
              "1                          약식  곡류 및 서류     15\n",
              "2     3mm 황금비율로 바삭하고 고소한 전병세트      과자류      9\n",
              "3                       가나슈쿠키      과자류      9\n",
              "4                 고구마 L(리코타링)      과자류      9\n",
              "...                       ...      ...    ...\n",
              "3698                 황금커리피자피자      피자류     18\n",
              "3699            흥부 포테이토(골드스윗)      피자류     18\n",
              "3700            흥부 포테이토(리코타링)      피자류     18\n",
              "3701              흥부 포테이토(석쇠)      피자류     18\n",
              "3702             흥부 포테이토(치즈링)      피자류     18\n",
              "\n",
              "[3703 rows x 3 columns]"
            ]
          },
          "metadata": {
            "tags": []
          },
          "execution_count": 206
        }
      ]
    }
  ]
}